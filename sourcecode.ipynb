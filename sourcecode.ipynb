{
 "cells": [
  {
   "cell_type": "code",
   "execution_count": null,
   "metadata": {},
   "outputs": [],
   "source": [
    "import pandas as pd\n",
    "import numpy as np\n",
    "from sklearn.model_selection import train_test_split\n",
    "from sklearn.metrics import confusion_matrix\n",
    "import matplotlib.pyplot as plt\n",
    "from sklearn.preprocessing import MinMaxScaler , LabelEncoder\n",
    "from sklearn.ensemble import ExtraTreesClassifier\n",
    "from imblearn.over_sampling import RandomOverSampler "
   ]
  },
  {
   "cell_type": "code",
   "execution_count": null,
   "metadata": {},
   "outputs": [],
   "source": [
    "# Proses melakukan import dataset yang diperlukan\n",
    "test_set = pd.read_csv('dataset/test_feature.csv')\n",
    "features = pd.read_csv('dataset/train_features.csv')\n",
    "labels = pd.read_csv('dataset/train_label.csv')"
   ]
  },
  {
   "cell_type": "code",
   "execution_count": null,
   "metadata": {},
   "outputs": [],
   "source": [
    "labels.dtypes"
   ]
  },
  {
   "cell_type": "code",
   "execution_count": null,
   "metadata": {},
   "outputs": [],
   "source": [
    "# Menampilkan jumlah missing value pada features\n",
    "na_feature = features.isna().sum()\n",
    "na_feature"
   ]
  },
  {
   "cell_type": "code",
   "execution_count": null,
   "metadata": {},
   "outputs": [],
   "source": [
    "# Proses mengisi missing values string pada features dengan 'NULL'\n",
    "features = features.fillna('NULL')"
   ]
  },
  {
   "cell_type": "code",
   "execution_count": null,
   "metadata": {},
   "outputs": [],
   "source": [
    "import numpy as np\n",
    "features['rating_average'] = np.NaN\n",
    "features['review_count'] = np.NaN\n",
    "features['review_multiple'] = np.NaN\n",
    "for ind in features.index:\n",
    "    if (features['rating'][ind] != \"NULL\"):\n",
    "        l = []\n",
    "        for t in features['rating'][ind].split():\n",
    "            try:\n",
    "                l.append(float(t))\n",
    "            except ValueError:\n",
    "                pass\n",
    "        if (len(l) == 2):\n",
    "            features['rating_average'][ind] = l[0]\n",
    "            features['review_count'][ind] = l[1]\n",
    "            features['review_multiple'][ind] = l[0]*l[1]\n",
    "        else:\n",
    "            features['rating'][ind] = \"NULL\"\n",
    "    else:\n",
    "        features['rating'][ind] = \"NULL\"\n",
    "\n",
    "\n",
    "print(features)"
   ]
  },
  {
   "cell_type": "code",
   "execution_count": null,
   "metadata": {},
   "outputs": [],
   "source": [
    "features['rating_average'] = features['rating_average'].fillna(features['rating_average'].mean())\n",
    "features['review_count'] = features['review_count'].fillna(features['review_count'].mean())\n",
    "features['review_multiple'] = features['review_multiple'].fillna(features['review_multiple'].mean())"
   ]
  },
  {
   "cell_type": "code",
   "execution_count": null,
   "metadata": {},
   "outputs": [],
   "source": [
    "with pd.option_context('display.max_rows', None, 'display.max_columns', None):  # more options can be specified also\n",
    "    print(features)"
   ]
  },
  {
   "cell_type": "code",
   "execution_count": null,
   "metadata": {},
   "outputs": [],
   "source": [
    "features['Restaurant']=999\n",
    "features['Bar']=999\n",
    "features[\"Gym\"]=999\n",
    "features['Internet']=999\n",
    "features['Swimming Pools']=999\n"
   ]
  },
  {
   "cell_type": "code",
   "execution_count": null,
   "metadata": {},
   "outputs": [],
   "source": [
    "features.dtypes"
   ]
  },
  {
   "cell_type": "code",
   "execution_count": null,
   "metadata": {},
   "outputs": [],
   "source": [
    "for ind in features.index:\n",
    "    features['facilities'][ind] = features['facilities'][ind].lower()\n",
    "\n",
    "    if 'restaurant' in features['facilities'][ind] :\n",
    "        features['Restaurant'][ind] = int(1)\n",
    "    else :\n",
    "        features['Restaurant'][ind] = int(0)\n",
    "\n",
    "    if 'bar' in features['facilities'][ind] :\n",
    "        features['Bar'][ind] = int(1)\n",
    "    else :\n",
    "        features['Bar'][ind] = int(0)\n",
    "\n",
    "    if 'swimmingpools' in features['facilities'][ind] :\n",
    "        features['Swimming Pools'][ind] = int(1)\n",
    "    else :\n",
    "        features['Swimming Pools'][ind] = int(0)  \n",
    "\n",
    "    if 'gym' in features['facilities'][ind] :\n",
    "        features['Gym'][ind] = int(1)\n",
    "    else :\n",
    "        features['Gym'][ind] = int(0)  \n",
    "\n",
    "    if 'internet' or 'intrnet' in features['facilities'][ind]  :\n",
    "        features['Internet'][ind] = int(1)\n",
    "    else :\n",
    "        features['Internet'][ind] = int(0)\n",
    "\n"
   ]
  },
  {
   "cell_type": "code",
   "execution_count": null,
   "metadata": {},
   "outputs": [],
   "source": [
    "features = pd.get_dummies(features, columns = ['location'], dtype= int)"
   ]
  },
  {
   "cell_type": "code",
   "execution_count": null,
   "metadata": {},
   "outputs": [],
   "source": [
    "for ind in labels.index:\n",
    "    string = labels['Price'][ind]\n",
    "    string = string.replace( 'avg/night', '')\n",
    "    string = string.replace( ',', '')\n",
    "    labels['Price'][ind] = float(string)\n",
    "labels.head()"
   ]
  },
  {
   "cell_type": "code",
   "execution_count": null,
   "metadata": {},
   "outputs": [],
   "source": [
    "features = features.drop(columns = ['facilities','rating'])"
   ]
  },
  {
   "cell_type": "code",
   "execution_count": null,
   "metadata": {},
   "outputs": [],
   "source": [
    "x_train, x_test, y_train, y_test = train_test_split(features,labels, test_size = 0.3, random_state = 23)"
   ]
  },
  {
   "cell_type": "code",
   "execution_count": null,
   "metadata": {},
   "outputs": [],
   "source": [
    "x_train.dtypes"
   ]
  },
  {
   "cell_type": "code",
   "execution_count": null,
   "metadata": {},
   "outputs": [],
   "source": [
    "y_train = y_train.astype('int32')\n",
    "y_test = y_test.astype('int32')"
   ]
  },
  {
   "cell_type": "code",
   "execution_count": null,
   "metadata": {},
   "outputs": [],
   "source": [
    "y_train.dtypes"
   ]
  },
  {
   "cell_type": "code",
   "execution_count": null,
   "metadata": {},
   "outputs": [],
   "source": [
    "import xgboost as xgb\n",
    "#=========================================================================\n",
    "# XGBoost regression: \n",
    "# Parameters: \n",
    "# n_estimators  \"Number of gradient boosted trees. Equivalent to number \n",
    "#                of boosting rounds.\"\n",
    "# learning_rate \"Boosting learning rate (also known as “eta”)\"\n",
    "# max_depth     \"Maximum depth of a tree. Increasing this value will make \n",
    "#                the model more complex and more likely to overfit.\" \n",
    "#=========================================================================\n",
    "regressor=xgb.XGBRegressor(eval_metric=mean_absolute_error)\n",
    "\n",
    "#=========================================================================\n",
    "# exhaustively search for the optimal hyperparameters\n",
    "#=========================================================================\n",
    "from sklearn.model_selection import GridSearchCV\n",
    "# set up our search grid\n",
    "param_grid = {\"max_depth\":    [4, 5, 6],\n",
    "              \"n_estimators\": [500, 600, 700],\n",
    "              \"learning_rate\": [0.01, 0.015]}\n",
    "\n",
    "# try out every combination of the above values\n",
    "search = GridSearchCV(regressor, param_grid, cv=5).fit(x_train, y_train)\n",
    "\n",
    "print(\"The best hyperparameters are \",search.best_params_)"
   ]
  },
  {
   "cell_type": "code",
   "execution_count": null,
   "metadata": {},
   "outputs": [],
   "source": [
    "regressor=xgb.XGBRegressor(learning_rate = search.best_params_[\"learning_rate\"],\n",
    "                           n_estimators  = 1000,\n",
    "                           max_depth     = search.best_params_[\"max_depth\"],\n",
    "                           eval_metric='rmsle')\n",
    "\n",
    "regressor.fit(x_train, y_train)"
   ]
  },
  {
   "cell_type": "code",
   "execution_count": null,
   "metadata": {},
   "outputs": [],
   "source": [
    "from sklearn.ensemble import RandomForestRegressor\n",
    "\n",
    "# Initializing\n",
    "model = RandomForestRegressor(verbose=2, n_estimators= 1000)\n",
    "\n",
    "# Training\n",
    "model.fit(x_train,y_train)"
   ]
  },
  {
   "cell_type": "code",
   "execution_count": null,
   "metadata": {},
   "outputs": [],
   "source": [
    "y_pred = regressor.predict(x_test)"
   ]
  },
  {
   "cell_type": "code",
   "execution_count": null,
   "metadata": {},
   "outputs": [],
   "source": [
    "y_pred"
   ]
  },
  {
   "cell_type": "code",
   "execution_count": null,
   "metadata": {},
   "outputs": [],
   "source": [
    "from sklearn.metrics import mean_absolute_error\n",
    "\n",
    "# Proses evaluasi h1n1 vaccine\n",
    "y_true = y_test\n",
    "y_pred = y_pred\n",
    "\n",
    "mean_absolute_error(y_true, y_pred)\n"
   ]
  },
  {
   "cell_type": "code",
   "execution_count": null,
   "metadata": {},
   "outputs": [],
   "source": [
    "print(len(y_pred))"
   ]
  },
  {
   "attachments": {},
   "cell_type": "markdown",
   "metadata": {},
   "source": [
    "<h1> Prediksi yang test_feature <h1>"
   ]
  },
  {
   "cell_type": "code",
   "execution_count": null,
   "metadata": {},
   "outputs": [],
   "source": [
    "test_set.head()"
   ]
  },
  {
   "cell_type": "code",
   "execution_count": null,
   "metadata": {},
   "outputs": [],
   "source": [
    "# Menampilkan jumlah missing value pada test_set\n",
    "na_test_set = test_set.isna().sum()\n",
    "na_test_set"
   ]
  },
  {
   "cell_type": "code",
   "execution_count": null,
   "metadata": {},
   "outputs": [],
   "source": [
    "import numpy as np\n",
    "test_set['rating_average'] = np.NaN\n",
    "test_set['review_count'] = np.NaN\n",
    "test_set['review_multiple'] = np.NaN\n",
    "for ind in test_set.index:\n",
    "    if (test_set['rating'][ind] != \"NULL\"):\n",
    "        l = []\n",
    "        for t in test_set['rating'][ind].split():\n",
    "            try:\n",
    "                l.append(float(t))\n",
    "            except ValueError:\n",
    "                pass\n",
    "        if (len(l) == 2):\n",
    "            test_set['rating_average'][ind] = l[0]\n",
    "            test_set['review_count'][ind] = l[1]\n",
    "            test_set['review_multiple'][ind] = l[0]*l[1]\n",
    "        else:\n",
    "            test_set['rating'][ind] = \"NULL\"\n",
    "    else:\n",
    "        test_set['rating'][ind] = \"NULL\"\n",
    "\n",
    "\n",
    "print(test_set)"
   ]
  },
  {
   "cell_type": "code",
   "execution_count": null,
   "metadata": {},
   "outputs": [],
   "source": [
    "test_set['Restaurant']=''\n",
    "test_set['Bar']=''\n",
    "test_set[\"Gym\"]=''\n",
    "test_set['Internet']=''\n",
    "test_set['Swimming Pools']=''\n"
   ]
  },
  {
   "cell_type": "code",
   "execution_count": null,
   "metadata": {},
   "outputs": [],
   "source": [
    "test_set.head()"
   ]
  },
  {
   "cell_type": "code",
   "execution_count": null,
   "metadata": {},
   "outputs": [],
   "source": [
    "for ind in test_set.index:\n",
    "    test_set['facilities'][ind] = test_set['facilities'][ind].lower()\n",
    "\n",
    "    if 'restaurant' in test_set['facilities'][ind] :\n",
    "        test_set['Restaurant'][ind] = 1\n",
    "    else :\n",
    "        test_set['Restaurant'][ind] = 0\n",
    "\n",
    "    if 'bar' in test_set['facilities'][ind] :\n",
    "        test_set['Bar'][ind] = 1\n",
    "    else :\n",
    "        test_set['Bar'][ind] = 0\n",
    "\n",
    "    if 'swimmingpools' in test_set['facilities'][ind] :\n",
    "        test_set['Swimming Pools'][ind] = 1\n",
    "    else :\n",
    "        test_set['Swimming Pools'][ind] = 0    \n",
    "\n",
    "    if 'gym' in test_set['facilities'][ind] :\n",
    "        test_set['Gym'][ind] = 1\n",
    "    else :\n",
    "        test_set['Gym'][ind] = 0   \n",
    "\n",
    "    if 'internet' or 'intrnet' in test_set['facilities'][ind]  :\n",
    "        test_set['Internet'][ind] = 1\n",
    "    else :\n",
    "        test_set['Internet'][ind] = 0\n",
    "\n"
   ]
  },
  {
   "cell_type": "code",
   "execution_count": null,
   "metadata": {},
   "outputs": [],
   "source": [
    "test_set = pd.get_dummies(test_set, columns = ['location'], dtype= int)"
   ]
  },
  {
   "cell_type": "code",
   "execution_count": null,
   "metadata": {},
   "outputs": [],
   "source": [
    "test_set = test_set.drop(columns = ['facilities','rating','ID'])"
   ]
  },
  {
   "cell_type": "code",
   "execution_count": null,
   "metadata": {},
   "outputs": [],
   "source": [
    "test_set.head()"
   ]
  },
  {
   "cell_type": "code",
   "execution_count": null,
   "metadata": {},
   "outputs": [],
   "source": [
    "result = model.predict(test_set)"
   ]
  },
  {
   "cell_type": "code",
   "execution_count": null,
   "metadata": {},
   "outputs": [],
   "source": [
    "# Proses penyesuaian hasil prediksi dengan format submisi\n",
    "\n",
    "# Proses pengubahan array menjadi dataframe\n",
    "df = pd.DataFrame(result, columns=[\"Price\"])\n",
    "\n",
    "# Proses pengambilan respondent id original\n",
    "test_set = pd.read_csv('dataset/test_feature.csv')\n",
    "test_set.loc[:,\"ID\"]\n",
    "\n",
    "# Proses pembuatan dataframe akhir \n",
    "df_final = test_set.ID\n",
    "df_final =  pd.DataFrame(df_final, columns=[\"ID\"])\n",
    "df_final[\"Price\"]= df[\"Price\"] \n",
    "\n",
    "# Proses export dataframe menjadi csv\n",
    "df_final.to_csv(\"prediction/bismillah_1.csv\", index=False) "
   ]
  }
 ],
 "metadata": {
  "kernelspec": {
   "display_name": "Python 3",
   "language": "python",
   "name": "python3"
  },
  "language_info": {
   "codemirror_mode": {
    "name": "ipython",
    "version": 3
   },
   "file_extension": ".py",
   "mimetype": "text/x-python",
   "name": "python",
   "nbconvert_exporter": "python",
   "pygments_lexer": "ipython3",
   "version": "3.10.5"
  },
  "orig_nbformat": 4
 },
 "nbformat": 4,
 "nbformat_minor": 2
}
