{
 "cells": [
  {
   "cell_type": "code",
   "execution_count": null,
   "metadata": {},
   "outputs": [],
   "source": [
    "import pandas as pd\n",
    "import numpy as np\n",
    "from sklearn.model_selection import train_test_split\n",
    "from sklearn.metrics import confusion_matrix\n",
    "import matplotlib.pyplot as plt\n",
    "from sklearn.preprocessing import MinMaxScaler , LabelEncoder\n",
    "from sklearn.ensemble import ExtraTreesClassifier\n",
    "from imblearn.over_sampling import RandomOverSampler \n",
    "from catboost import CatBoostRegressor"
   ]
  },
  {
   "cell_type": "code",
   "execution_count": null,
   "metadata": {},
   "outputs": [],
   "source": [
    "# Proses melakukan import dataset yang diperlukan\n",
    "test_set = pd.read_csv('dataset/test_feature.csv')\n",
    "features = pd.read_csv('dataset/train_features.csv')\n",
    "labels = pd.read_csv('dataset/train_label.csv')"
   ]
  },
  {
   "cell_type": "code",
   "execution_count": null,
   "metadata": {},
   "outputs": [],
   "source": [
    "# Menampilkan jumlah missing value pada features\n",
    "na_feature = features.isna().sum()\n",
    "na_feature"
   ]
  },
  {
   "cell_type": "code",
   "execution_count": null,
   "metadata": {},
   "outputs": [],
   "source": [
    "# Proses mengisi missing values string pada features dengan 'NULL'\n",
    "features = features.fillna('NULL')"
   ]
  },
  {
   "cell_type": "code",
   "execution_count": null,
   "metadata": {},
   "outputs": [],
   "source": [
    "features['rating_average'] = 0\n",
    "features['review_count'] = 0\n",
    "features['review_multiple'] = 0\n",
    "for ind in features.index:\n",
    "    if (features['rating'][ind] != \"NULL\"):\n",
    "        l = []\n",
    "        for t in features['rating'][ind].split():\n",
    "            try:\n",
    "                l.append(float(t))\n",
    "            except ValueError:\n",
    "                pass\n",
    "        if (len(l) == 2):\n",
    "            features['rating_average'][ind] = l[0]\n",
    "            features['review_count'][ind] = l[1]\n",
    "            features['review_multiple'][ind] = l[0]*l[1]\n",
    "        else:\n",
    "            features['rating'][ind] = \"NULL\"\n",
    "    else:\n",
    "        features['rating'][ind] = \"NULL\"\n"
   ]
  },
  {
   "cell_type": "code",
   "execution_count": null,
   "metadata": {},
   "outputs": [],
   "source": [
    "features['Restaurant']=999\n",
    "features['Bar']=999\n",
    "features[\"Gym\"]=999\n",
    "features['Internet']=999\n",
    "features['Swimming Pools']=999\n",
    "\n",
    "for ind in features.index:\n",
    "    features['facilities'][ind] = features['facilities'][ind].lower()\n",
    "\n",
    "    \n",
    "    if (features['rating'][ind] != \"NULL\"):\n",
    "\n",
    "        if 'restaurant' in features['facilities'][ind] :\n",
    "            features['Restaurant'][ind] = int(1)\n",
    "        else :\n",
    "            features['Restaurant'][ind] = int(0)\n",
    "\n",
    "        if 'bar' in features['facilities'][ind] :\n",
    "            features['Bar'][ind] = int(1)\n",
    "        else :\n",
    "            features['Bar'][ind] = int(0)\n",
    "\n",
    "        if 'swimmingpools' in features['facilities'][ind] :\n",
    "            features['Swimming Pools'][ind] = int(1)\n",
    "        else :\n",
    "            features['Swimming Pools'][ind] = int(0)  \n",
    "\n",
    "        if 'gym' in features['facilities'][ind] :\n",
    "            features['Gym'][ind] = int(1)\n",
    "        else :\n",
    "            features['Gym'][ind] = int(0)  \n",
    "\n",
    "        if 'internet' in features['facilities'][ind]  :\n",
    "            features['Internet'][ind] = int(1)\n",
    "        else :\n",
    "            features['Internet'][ind] = int(0)\n",
    "\n",
    "        if 'intrnet' in features['facilities'][ind]  :\n",
    "            features['Internet'][ind] = int(1)\n",
    "        else :\n",
    "            features['Internet'][ind] = int(0)\n",
    "\n",
    "    else :\n",
    "        features['Restaurant'][ind] = int(0)\n",
    "        features['Bar'][ind] = int(0)\n",
    "        features['Swimming Pools'][ind] = int(0)  \n",
    "        features['Gym'][ind] = int(0)  \n",
    "        features['Internet'][ind] = int(0)\n",
    "        \n",
    "    \n"
   ]
  },
  {
   "cell_type": "code",
   "execution_count": null,
   "metadata": {},
   "outputs": [],
   "source": [
    "features = pd.get_dummies(features, columns = ['location'], dtype= int)"
   ]
  },
  {
   "attachments": {},
   "cell_type": "markdown",
   "metadata": {},
   "source": [
    "## BATAS PENGECEKAN DATAFRAME"
   ]
  },
  {
   "cell_type": "code",
   "execution_count": null,
   "metadata": {},
   "outputs": [],
   "source": [
    "features[\"Swimming Pools\"].describe()"
   ]
  },
  {
   "cell_type": "code",
   "execution_count": null,
   "metadata": {},
   "outputs": [],
   "source": [
    "features.iloc[312]"
   ]
  },
  {
   "cell_type": "code",
   "execution_count": null,
   "metadata": {},
   "outputs": [],
   "source": [
    "for ind in labels.index:\n",
    "    string = labels['Price'][ind]\n",
    "    string = string.replace( 'avg/night', '')\n",
    "    string = string.replace( ',', '')\n",
    "    labels['Price'][ind] = float(string)\n",
    "labels.head()"
   ]
  },
  {
   "cell_type": "code",
   "execution_count": null,
   "metadata": {},
   "outputs": [],
   "source": [
    "# Drop Outlier\n",
    "labels = labels.drop(index= [697,828,1030,1424,1856,2346])\n",
    "features = features.drop(index= [697,828,1030,1424,1856,2346])"
   ]
  },
  {
   "cell_type": "code",
   "execution_count": null,
   "metadata": {},
   "outputs": [],
   "source": [
    "labels = labels.astype(\"int32\")"
   ]
  },
  {
   "cell_type": "code",
   "execution_count": null,
   "metadata": {},
   "outputs": [],
   "source": [
    "features = features.drop(columns = ['facilities','rating'])"
   ]
  },
  {
   "cell_type": "code",
   "execution_count": null,
   "metadata": {},
   "outputs": [],
   "source": [
    "x_train, x_test, y_train, y_test = train_test_split(features,labels, test_size = 0.3, random_state = 23)"
   ]
  },
  {
   "cell_type": "code",
   "execution_count": null,
   "metadata": {},
   "outputs": [],
   "source": [
    "from sklearn.ensemble import RandomForestRegressor\n",
    "\n",
    "# Initializing\n",
    "model = RandomForestRegressor(verbose=2, n_estimators= 200)\n",
    "\n",
    "# Training\n",
    "model.fit(x_train,y_train)"
   ]
  },
  {
   "cell_type": "code",
   "execution_count": null,
   "metadata": {},
   "outputs": [],
   "source": [
    "y_pred = model.predict(x_test)"
   ]
  },
  {
   "cell_type": "code",
   "execution_count": null,
   "metadata": {},
   "outputs": [],
   "source": [
    "from sklearn.metrics import mean_absolute_error\n",
    "\n",
    "mean_absolute_error(y_pred, y_test)\n"
   ]
  },
  {
   "cell_type": "code",
   "execution_count": null,
   "metadata": {},
   "outputs": [],
   "source": [
    "print(len(y_pred))"
   ]
  },
  {
   "attachments": {},
   "cell_type": "markdown",
   "metadata": {},
   "source": [
    "<h1> Prediksi yang test_feature <h1>"
   ]
  },
  {
   "cell_type": "code",
   "execution_count": null,
   "metadata": {},
   "outputs": [],
   "source": [
    "test_set.head()"
   ]
  },
  {
   "cell_type": "code",
   "execution_count": null,
   "metadata": {},
   "outputs": [],
   "source": [
    "# Menampilkan jumlah missing value pada test_set\n",
    "na_test_set = test_set.isna().sum()\n",
    "na_test_set"
   ]
  },
  {
   "cell_type": "code",
   "execution_count": null,
   "metadata": {},
   "outputs": [],
   "source": [
    "import numpy as np\n",
    "test_set['rating_average'] = np.NaN\n",
    "test_set['review_count'] = np.NaN\n",
    "test_set['review_multiple'] = np.NaN\n",
    "for ind in test_set.index:\n",
    "    if (test_set['rating'][ind] != \"NULL\"):\n",
    "        l = []\n",
    "        for t in test_set['rating'][ind].split():\n",
    "            try:\n",
    "                l.append(float(t))\n",
    "            except ValueError:\n",
    "                pass\n",
    "        if (len(l) == 2):\n",
    "            test_set['rating_average'][ind] = l[0]\n",
    "            test_set['review_count'][ind] = l[1]\n",
    "            test_set['review_multiple'][ind] = l[0]*l[1]\n",
    "        else:\n",
    "            test_set['rating'][ind] = \"NULL\"\n",
    "    else:\n",
    "        test_set['rating'][ind] = \"NULL\"\n",
    "\n",
    "\n",
    "print(test_set)"
   ]
  },
  {
   "cell_type": "code",
   "execution_count": null,
   "metadata": {},
   "outputs": [],
   "source": [
    "test_set['Restaurant']=''\n",
    "test_set['Bar']=''\n",
    "test_set[\"Gym\"]=''\n",
    "test_set['Internet']=''\n",
    "test_set['Swimming Pools']=''\n"
   ]
  },
  {
   "cell_type": "code",
   "execution_count": null,
   "metadata": {},
   "outputs": [],
   "source": [
    "test_set.head()"
   ]
  },
  {
   "cell_type": "code",
   "execution_count": null,
   "metadata": {},
   "outputs": [],
   "source": [
    "for ind in test_set.index:\n",
    "    test_set['facilities'][ind] = test_set['facilities'][ind].lower()\n",
    "\n",
    "    if 'restaurant' in test_set['facilities'][ind] :\n",
    "        test_set['Restaurant'][ind] = 1\n",
    "    else :\n",
    "        test_set['Restaurant'][ind] = 0\n",
    "\n",
    "    if 'bar' in test_set['facilities'][ind] :\n",
    "        test_set['Bar'][ind] = 1\n",
    "    else :\n",
    "        test_set['Bar'][ind] = 0\n",
    "\n",
    "    if 'swimmingpools' in test_set['facilities'][ind] :\n",
    "        test_set['Swimming Pools'][ind] = 1\n",
    "    else :\n",
    "        test_set['Swimming Pools'][ind] = 0    \n",
    "\n",
    "    if 'gym' in test_set['facilities'][ind] :\n",
    "        test_set['Gym'][ind] = 1\n",
    "    else :\n",
    "        test_set['Gym'][ind] = 0   \n",
    "\n",
    "    if 'internet' or 'intrnet' in test_set['facilities'][ind]  :\n",
    "        test_set['Internet'][ind] = 1\n",
    "    else :\n",
    "        test_set['Internet'][ind] = 0\n",
    "\n"
   ]
  },
  {
   "cell_type": "code",
   "execution_count": null,
   "metadata": {},
   "outputs": [],
   "source": [
    "test_set = pd.get_dummies(test_set, columns = ['location'], dtype= int)"
   ]
  },
  {
   "cell_type": "code",
   "execution_count": null,
   "metadata": {},
   "outputs": [],
   "source": [
    "test_set = test_set.drop(columns = ['facilities','rating','ID'])"
   ]
  },
  {
   "cell_type": "code",
   "execution_count": null,
   "metadata": {},
   "outputs": [],
   "source": [
    "test_set.head()"
   ]
  },
  {
   "cell_type": "code",
   "execution_count": null,
   "metadata": {},
   "outputs": [],
   "source": [
    "result = model.predict(test_set)"
   ]
  },
  {
   "cell_type": "code",
   "execution_count": null,
   "metadata": {},
   "outputs": [],
   "source": [
    "# Proses penyesuaian hasil prediksi dengan format submisi\n",
    "\n",
    "# Proses pengubahan array menjadi dataframe\n",
    "df = pd.DataFrame(result, columns=[\"Price\"])\n",
    "\n",
    "# Proses pengambilan respondent id original\n",
    "test_set = pd.read_csv('dataset/test_feature.csv')\n",
    "test_set.loc[:,\"ID\"]\n",
    "\n",
    "# Proses pembuatan dataframe akhir \n",
    "df_final = test_set.ID\n",
    "df_final =  pd.DataFrame(df_final, columns=[\"ID\"])\n",
    "df_final[\"Price\"]= df[\"Price\"] \n",
    "\n",
    "# Proses export dataframe menjadi csv\n",
    "df_final.to_csv(\"prediction/bismillah_1.csv\", index=False) "
   ]
  }
 ],
 "metadata": {
  "kernelspec": {
   "display_name": "Python 3",
   "language": "python",
   "name": "python3"
  },
  "language_info": {
   "codemirror_mode": {
    "name": "ipython",
    "version": 3
   },
   "file_extension": ".py",
   "mimetype": "text/x-python",
   "name": "python",
   "nbconvert_exporter": "python",
   "pygments_lexer": "ipython3",
   "version": "3.11.3"
  },
  "orig_nbformat": 4
 },
 "nbformat": 4,
 "nbformat_minor": 2
}
